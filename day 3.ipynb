{
 "cells": [
  {
   "cell_type": "code",
   "execution_count": 9,
   "id": "9ad7181f",
   "metadata": {},
   "outputs": [
    {
     "name": "stdout",
     "output_type": "stream",
     "text": [
      "pass\n",
      "pass\n"
     ]
    }
   ],
   "source": [
    "marks=80\n",
    "if marks>70:\n",
    "    print('pass')\n",
    "# shorthand if statement\n",
    "if marks>70: print('pass') "
   ]
  },
  {
   "cell_type": "code",
   "execution_count": 77,
   "id": "23c2a6c9",
   "metadata": {},
   "outputs": [
    {
     "name": "stdout",
     "output_type": "stream",
     "text": [
      "pass\n",
      "pass\n"
     ]
    }
   ],
   "source": [
    "marks=90\n",
    "if marks>60:\n",
    "    print('pass')\n",
    "else:\n",
    "    print('fail')\n",
    "    \n",
    "# shorthand if-else statement\n",
    "print('pass') if marks>60 else print('fail')"
   ]
  },
  {
   "cell_type": "markdown",
   "id": "ae5c2f5e",
   "metadata": {},
   "source": [
    "# basic calculator"
   ]
  },
  {
   "cell_type": "code",
   "execution_count": null,
   "id": "4c348321",
   "metadata": {},
   "outputs": [],
   "source": [
    "num1=float(input('enter first number: '))\n",
    "num2=float(input('enter second number: '))\n",
    "\n",
    "print('''\n",
    "enter + for addition\n",
    "enter - for sub\n",
    "enter * for multiply\n",
    "enter / for devide\n",
    "''')\n",
    "\n",
    "choice=input('enter your choice')\n",
    "\n",
    "if choice=='+':\n",
    "    print(num1+num2)\n",
    "elif choice=='-':\n",
    "    print(num1-num2)\n",
    "elif choice=='*':\n",
    "    print(num1*num2)\n",
    "elif choice=='/':\n",
    "    print(num1/num2)\n",
    "else:\n",
    "    print('invalid input..')"
   ]
  },
  {
   "cell_type": "markdown",
   "id": "156e7b2e",
   "metadata": {},
   "source": [
    "# for loop"
   ]
  },
  {
   "cell_type": "code",
   "execution_count": 3,
   "id": "ac8386f6",
   "metadata": {},
   "outputs": [
    {
     "name": "stdout",
     "output_type": "stream",
     "text": [
      "h\n",
      "u\n",
      "s\n",
      "s\n",
      "a\n",
      "i\n",
      "n\n"
     ]
    }
   ],
   "source": [
    "name='hussain'\n",
    "for key in name:\n",
    "    print(key)"
   ]
  },
  {
   "cell_type": "code",
   "execution_count": 5,
   "id": "87abffcd",
   "metadata": {},
   "outputs": [
    {
     "name": "stdout",
     "output_type": "stream",
     "text": [
      "1\n",
      "2\n",
      "3\n",
      "4\n",
      "5\n",
      "6\n",
      "7\n",
      "8\n",
      "9\n",
      "10\n"
     ]
    }
   ],
   "source": [
    "for key in range(1,11):\n",
    "    print(key)"
   ]
  },
  {
   "cell_type": "code",
   "execution_count": 20,
   "id": "f8d8a822",
   "metadata": {},
   "outputs": [
    {
     "name": "stdout",
     "output_type": "stream",
     "text": [
      "1 song is playing\n",
      "2 song is playing\n",
      "3 song is playing\n",
      "4 song is playing\n",
      "5 song is playing\n"
     ]
    }
   ],
   "source": [
    "# stop\n",
    "for key in range(1,6):\n",
    "    print(key, 'song is playing')"
   ]
  },
  {
   "cell_type": "code",
   "execution_count": 12,
   "id": "4d0c4e0e",
   "metadata": {},
   "outputs": [
    {
     "name": "stdout",
     "output_type": "stream",
     "text": [
      "11\n",
      "10\n",
      "9\n",
      "8\n",
      "7\n",
      "6\n",
      "5\n",
      "4\n",
      "3\n",
      "2\n"
     ]
    }
   ],
   "source": [
    "for key in range(11,1,-1):\n",
    "    print(key)"
   ]
  },
  {
   "cell_type": "code",
   "execution_count": 14,
   "id": "4dcd6396",
   "metadata": {},
   "outputs": [
    {
     "name": "stdout",
     "output_type": "stream",
     "text": [
      "0\n",
      "1\n",
      "2\n",
      "3\n",
      "4\n",
      "5\n",
      "6\n",
      "7\n",
      "8\n",
      "9\n",
      "10\n",
      "11\n",
      "12\n",
      "13\n",
      "14\n",
      "15\n"
     ]
    }
   ],
   "source": [
    "# start\n",
    "for key in range(16):\n",
    "    print(key)"
   ]
  },
  {
   "cell_type": "code",
   "execution_count": 21,
   "id": "1570f2cb",
   "metadata": {},
   "outputs": [
    {
     "name": "stdout",
     "output_type": "stream",
     "text": [
      "1 song is playing\n",
      "3 song is playing\n",
      "5 song is playing\n",
      "7 song is playing\n",
      "9 song is playing\n",
      "11 song is playing\n",
      "13 song is playing\n",
      "15 song is playing\n"
     ]
    }
   ],
   "source": [
    "# step\n",
    "for key in range(1,16,2):\n",
    "    print(key, 'song is playing')"
   ]
  },
  {
   "cell_type": "code",
   "execution_count": 33,
   "id": "95d2c700",
   "metadata": {},
   "outputs": [
    {
     "name": "stdout",
     "output_type": "stream",
     "text": [
      "16 x 1 = 16\n",
      "16 x 2 = 32\n",
      "16 x 3 = 48\n",
      "16 x 4 = 64\n",
      "16 x 5 = 80\n",
      "16 x 6 = 96\n",
      "16 x 7 = 112\n",
      "16 x 8 = 128\n",
      "16 x 9 = 144\n",
      "16 x 10 = 160\n"
     ]
    }
   ],
   "source": [
    "for key in range(1,11):\n",
    "    print('16 x',key,\"=\", key*16)"
   ]
  },
  {
   "cell_type": "code",
   "execution_count": 38,
   "id": "76cae053",
   "metadata": {},
   "outputs": [
    {
     "name": "stdout",
     "output_type": "stream",
     "text": [
      "enter any no. for displaying table: 18\n",
      "18 x 1 = 18\n",
      "18 x 2 = 36\n",
      "18 x 3 = 54\n",
      "18 x 4 = 72\n",
      "18 x 5 = 90\n",
      "18 x 6 = 108\n",
      "18 x 7 = 126\n",
      "18 x 8 = 144\n",
      "18 x 9 = 162\n",
      "18 x 10 = 180\n"
     ]
    }
   ],
   "source": [
    "user=int(input(\"enter any no. for displaying table: \"))\n",
    "for key in range(1,11):\n",
    "    print('18','x',key,'=',key*user)"
   ]
  }
 ],
 "metadata": {
  "kernelspec": {
   "display_name": "Python 3 (ipykernel)",
   "language": "python",
   "name": "python3"
  },
  "language_info": {
   "codemirror_mode": {
    "name": "ipython",
    "version": 3
   },
   "file_extension": ".py",
   "mimetype": "text/x-python",
   "name": "python",
   "nbconvert_exporter": "python",
   "pygments_lexer": "ipython3",
   "version": "3.11.2"
  }
 },
 "nbformat": 4,
 "nbformat_minor": 5
}
