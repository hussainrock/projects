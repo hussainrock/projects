{
 "cells": [
  {
   "cell_type": "code",
   "execution_count": null,
   "id": "5409a9d7",
   "metadata": {},
   "outputs": [],
   "source": [
    "total_seats= 150\n",
    "normal_seats=130\n",
    "recliner=20\n",
    "normal_seat_price=100\n",
    "recliner_price=200\n",
    "\n",
    "while True: \n",
    "    print('welcome to viragna tokis')\n",
    "    total=0\n",
    "   \n",
    "    while True:\n",
    "        choice=input('do you want normal or recliner? ')\n",
    "        if choice=='normal':\n",
    "            qty=int(input('how many seats do you want? '))\n",
    "            total += normal_seat_price*qty \n",
    "            normal_seats -= qty\n",
    "            total_seats -= qty\n",
    "        elif choice=='recliner':\n",
    "            qty=int(input('how many seats do you want? '))\n",
    "            total += recliner_price*qty\n",
    "            recliner -= qty\n",
    "            total_seats -= qty\n",
    "        add=input('do you want to add more seats? ')\n",
    "        if add=='no':\n",
    "            break\n",
    "    print(\"-\"*40)\n",
    "    print('your total is', total)\n",
    "    print('total available seats:',total_seats)\n",
    "    if normal_seats<0:\n",
    "        print('no more normal seats')\n",
    "    else:\n",
    "        print('available normal seats', normal_seats)\n",
    "    \n",
    "    if recliner <0:\n",
    "        print('no more recliner seats')\n",
    "    else:\n",
    "        print('available recliner seats', recliner)\n",
    "        \n",
    "    if recliner==0 and normal_seats ==0:\n",
    "        print('show is housefull')\n",
    "        break\n",
    "    print(\"-\"*40)\n",
    "    more_cus=input('do you want to add more customers? ')\n",
    "    if more_cus=='no':\n",
    "        break"
   ]
  }
 ],
 "metadata": {
  "kernelspec": {
   "display_name": "Python 3 (ipykernel)",
   "language": "python",
   "name": "python3"
  },
  "language_info": {
   "codemirror_mode": {
    "name": "ipython",
    "version": 3
   },
   "file_extension": ".py",
   "mimetype": "text/x-python",
   "name": "python",
   "nbconvert_exporter": "python",
   "pygments_lexer": "ipython3",
   "version": "3.11.2"
  }
 },
 "nbformat": 4,
 "nbformat_minor": 5
}
