{
 "cells": [
  {
   "cell_type": "code",
   "execution_count": 11,
   "id": "dd527674",
   "metadata": {},
   "outputs": [
    {
     "name": "stdout",
     "output_type": "stream",
     "text": [
      "10\n",
      "10\n"
     ]
    }
   ],
   "source": [
    "# 1. Find the length of a string without using len() function. \n",
    "a= 'new season'\n",
    "print(len(a))\n",
    "x=0\n",
    "for key in a:\n",
    "      x=x+1\n",
    "print(x)"
   ]
  },
  {
   "cell_type": "code",
   "execution_count": 18,
   "id": "58d49e6f",
   "metadata": {},
   "outputs": [
    {
     "name": "stdout",
     "output_type": "stream",
     "text": [
      "SOLARsystem\n"
     ]
    }
   ],
   "source": [
    "# 2. Write a program to convert half of the string uppercase and rest half of string in lower case.\n",
    "a= 'solarsystem'\n",
    "print(a[:5].upper()+a[-6:])"
   ]
  },
  {
   "cell_type": "code",
   "execution_count": 28,
   "id": "47e24264",
   "metadata": {},
   "outputs": [
    {
     "name": "stdout",
     "output_type": "stream",
     "text": [
      "4\n",
      "4\n"
     ]
    }
   ],
   "source": [
    "# 3. count the number of any character occuring in the string without using count function.\n",
    "a='this is a demo class'\n",
    "print(a.count('s'))\n",
    "x=0\n",
    "for key in a:\n",
    "    if key==\"s\":\n",
    "        x+=1\n",
    "print(x)"
   ]
  },
  {
   "cell_type": "code",
   "execution_count": 35,
   "id": "c7bc55b4",
   "metadata": {},
   "outputs": [
    {
     "name": "stdout",
     "output_type": "stream",
     "text": [
      "noitacifitsuj\n",
      "n\n"
     ]
    }
   ],
   "source": [
    "# 4. Write a program to reverse any given string. \n",
    "a='justification'\n",
    "print(a[::-1])\n",
    "print(a[-1::])\n"
   ]
  }
 ],
 "metadata": {
  "kernelspec": {
   "display_name": "Python 3 (ipykernel)",
   "language": "python",
   "name": "python3"
  },
  "language_info": {
   "codemirror_mode": {
    "name": "ipython",
    "version": 3
   },
   "file_extension": ".py",
   "mimetype": "text/x-python",
   "name": "python",
   "nbconvert_exporter": "python",
   "pygments_lexer": "ipython3",
   "version": "3.11.2"
  }
 },
 "nbformat": 4,
 "nbformat_minor": 5
}
